{
 "cells": [
  {
   "cell_type": "markdown",
   "id": "f5e945a4-97ca-43db-b810-912433f4f741",
   "metadata": {},
   "source": [
    "# Grid World Policy Evaluation and Improvement\n",
    "\n",
    "In this notebook, we will perform policy evaluation and improvement on a simple grid world."
   ]
  },
  {
   "cell_type": "code",
   "execution_count": 10,
   "id": "88d49844-675e-4fa7-b6ad-31f0dc2302a1",
   "metadata": {},
   "outputs": [],
   "source": [
    "# Import necessary libraries\n",
    "import numpy as np\n",
    "import matplotlib.pyplot as plt\n",
    "\n",
    "# Define the grid world\n",
    "grid_world = np.array([\n",
    "    [0,  0,  0,  -1],\n",
    "    [0, -1,  0,   0],\n",
    "    [0,  0,  0,   10],\n",
    "    [1,  0,  0,   5]\n",
    "])\n",
    "\n",
    "# Define reward function\n",
    "reward_function = {\n",
    "    (2, 3): 10,   # Changed reward position\n",
    "    (1, 1): -1,   # Changed obstacle position\n",
    "    (3, 0): 1,\n",
    "    (3, 3): 5\n",
    "}\n"
   ]
  },
  {
   "cell_type": "markdown",
   "id": "1767c165-d0f4-46c7-b939-2a53c4b4d41e",
   "metadata": {},
   "source": [
    "# Function to Compute Value Function using Policy Evaluation"
   ]
  },
  {
   "cell_type": "code",
   "execution_count": 11,
   "id": "2735a10e-59ab-4306-9c99-739bffb8dd6c",
   "metadata": {},
   "outputs": [],
   "source": [
    "def compute_value_function(grid_world, reward_function, gamma=1.0, theta=1e-6):\n",
    "    V = np.zeros_like(grid_world, dtype=np.float32)\n",
    "    \n",
    "    while True:\n",
    "        delta = 0\n",
    "        for i in range(grid_world.shape[0]):\n",
    "            for j in range(grid_world.shape[1]):\n",
    "                if (i, j) in reward_function:\n",
    "                    continue  # Skip updating value for reward pots\n",
    "                if grid_world[i, j] == -1:\n",
    "                    continue  # Skip updating value for obstacles\n",
    "\n",
    "                # Calculate the expected value for each action (up, down, left, right)\n",
    "                v = V[i, j]\n",
    "                max_value = -np.inf\n",
    "                for action in [(0, 1), (0, -1), (1, 0), (-1, 0)]:\n",
    "                    ni, nj = i + action[0], j + action[1]\n",
    "                    if 0 <= ni < grid_world.shape[0] and 0 <= nj < grid_world.shape[1]:\n",
    "                        if grid_world[ni, nj] != -1:\n",
    "                            action_value = reward_function.get((ni, nj), 0) + gamma * V[ni, nj]\n",
    "                            max_value = max(max_value, action_value)\n",
    "                \n",
    "                V[i, j] = max_value\n",
    "                delta = max(delta, np.abs(v - V[i, j]))\n",
    "        \n",
    "        if delta < theta:\n",
    "            break\n",
    "    \n",
    "    return V"
   ]
  },
  {
   "cell_type": "markdown",
   "id": "9e786243-8d4b-4c53-8eca-067d3fee2d1e",
   "metadata": {},
   "source": [
    "# Function for Policy Improvement"
   ]
  },
  {
   "cell_type": "code",
   "execution_count": 12,
   "id": "610b5755-78f4-49e7-a42d-ad783f5b9d5c",
   "metadata": {},
   "outputs": [],
   "source": [
    "def policy_improvement(grid_world, reward_function, V, gamma=1.0):\n",
    "    policy = np.zeros_like(grid_world, dtype=int)\n",
    "    \n",
    "    for i in range(grid_world.shape[0]):\n",
    "        for j in range(grid_world.shape[1]):\n",
    "            if (i, j) in reward_function or grid_world[i, j] == -1:\n",
    "                continue  # Skip reward pots and obstacles\n",
    "            \n",
    "            max_action_value = -np.inf\n",
    "            best_action = None\n",
    "            \n",
    "            for idx, action in enumerate([(0, 1), (0, -1), (1, 0), (-1, 0)]):\n",
    "                ni, nj = i + action[0], j + action[1]\n",
    "                if 0 <= ni < grid_world.shape[0] and 0 <= nj < grid_world.shape[1]:\n",
    "                    if grid_world[ni, nj] != -1:\n",
    "                        action_value = reward_function.get((ni, nj), 0) + gamma * V[ni, nj]\n",
    "                        if action_value > max_action_value:\n",
    "                            max_action_value = action_value\n",
    "                            best_action = idx\n",
    "            \n",
    "            policy[i, j] = best_action\n",
    "    \n",
    "    return policy"
   ]
  },
  {
   "cell_type": "markdown",
   "id": "c3ef0521-c614-4c12-ac3b-d6ebf1be9529",
   "metadata": {},
   "source": [
    "# Function to Visualize Policy and Value Function"
   ]
  },
  {
   "cell_type": "code",
   "execution_count": 13,
   "id": "1bdcc374-e698-4af0-b391-5a08b8efdc35",
   "metadata": {},
   "outputs": [],
   "source": [
    "def visualize_policy(policy, V):\n",
    "    fig, ax = plt.subplots()\n",
    "    ax.matshow(V, cmap='coolwarm')\n",
    "\n",
    "    for i in range(policy.shape[0]):\n",
    "        for j in range(policy.shape[1]):\n",
    "            if policy[i, j] == 0:  # Right\n",
    "                arrow = '>'\n",
    "            elif policy[i, j] == 1:  # Left\n",
    "                arrow = '<'\n",
    "            elif policy[i, j] == 2:  # Down\n",
    "                arrow = 'v'\n",
    "            elif policy[i, j] == 3:  # Up\n",
    "                arrow = '^'\n",
    "            else:\n",
    "                arrow = 'X'  # Mark invalid policies with 'X'\n",
    "            \n",
    "            ax.text(j, i, arrow, va='center', ha='center', fontsize=12)\n",
    "\n",
    "    plt.show()"
   ]
  },
  {
   "cell_type": "markdown",
   "id": "51b95e55-2fa4-4a0b-bbbf-18364e880e17",
   "metadata": {},
   "source": [
    "# Compute Optimal Value Function"
   ]
  },
  {
   "cell_type": "code",
   "execution_count": 14,
   "id": "844c9f92-538a-401f-ac78-fa82a2ba3b60",
   "metadata": {},
   "outputs": [],
   "source": [
    "optimal_V = compute_value_function(grid_world, reward_function)"
   ]
  },
  {
   "cell_type": "markdown",
   "id": "f8ab2443-774f-4838-ad1c-c418b6352394",
   "metadata": {},
   "source": [
    "# Compute Optimal Policy"
   ]
  },
  {
   "cell_type": "code",
   "execution_count": 15,
   "id": "47f3d622-2bf8-45af-9ea9-e9dd38c9049e",
   "metadata": {},
   "outputs": [],
   "source": [
    "optimal_policy = policy_improvement(grid_world, reward_function, optimal_V)"
   ]
  },
  {
   "cell_type": "markdown",
   "id": "c86ca6db-7e9b-49ed-9533-09f4f3b3f07e",
   "metadata": {},
   "source": [
    "# Display the Optimal Policy"
   ]
  },
  {
   "cell_type": "code",
   "execution_count": 16,
   "id": "6521e6c3-9132-4fc8-adf9-0058e196c251",
   "metadata": {},
   "outputs": [
    {
     "name": "stdout",
     "output_type": "stream",
     "text": [
      "Optimal Policy:\n",
      "[['Right' 'Right' 'Left' 'Right']\n",
      " ['Down' 'Right' 'Right' 'Left']\n",
      " ['Right' 'Right' 'Right' 'Right']\n",
      " ['Right' 'Right' 'Left' 'Right']]\n"
     ]
    }
   ],
   "source": [
    "directions = ['Right', 'Left', 'Down', 'Up']\n",
    "policy_symbols = np.array(['R', 'L', 'D', 'U'])\n",
    "\n",
    "optimal_policy_str = np.array([directions[action] for action in optimal_policy.flatten()]).reshape(grid_world.shape)\n",
    "print(\"Optimal Policy:\")\n",
    "print(optimal_policy_str)"
   ]
  },
  {
   "cell_type": "markdown",
   "id": "6132293a-098c-4770-b28a-b6fce0061d68",
   "metadata": {},
   "source": [
    "# Visualize the Optimal Policy and Value Function"
   ]
  },
  {
   "cell_type": "code",
   "execution_count": 17,
   "id": "fc131134-4de2-4206-90e8-3a5b0e31ac6f",
   "metadata": {},
   "outputs": [
    {
     "data": {
      "image/png": "[encoded data removed]",
      "text/plain": [
       "<Figure size 640x480 with 1 Axes>"
      ]
     },
     "metadata": {},
     "output_type": "display_data"
    }
   ],
   "source": [
    "visualize_policy(optimal_policy, optimal_V)"
   ]
  }
 ],
 "metadata": {
  "kernelspec": {
   "display_name": "Python 3 (ipykernel)",
   "language": "python",
   "name": "python3"
  },
  "language_info": {
   "codemirror_mode": {
    "name": "ipython",
    "version": 3
   },
   "file_extension": ".py",
   "mimetype": "text/x-python",
   "name": "python",
   "nbconvert_exporter": "python",
   "pygments_lexer": "ipython3",
   "version": "3.12.2"
  }
 },
 "nbformat": 4,
 "nbformat_minor": 5
}
